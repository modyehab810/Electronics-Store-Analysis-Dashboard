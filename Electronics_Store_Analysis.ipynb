{
 "cells": [
  {
   "cell_type": "markdown",
   "id": "1d7b9410",
   "metadata": {},
   "source": [
    "<h2 style=\"font: bold 28px tahoma\">Importing Libraries</h2>"
   ]
  },
  {
   "cell_type": "code",
   "execution_count": 1,
   "id": "dfabfbec",
   "metadata": {},
   "outputs": [],
   "source": [
    "import pandas as pd\n",
    "import numpy as np\n",
    "import matplotlib.pyplot as plt\n",
    "import plotly.express as exp\n",
    "\n",
    "# Theses Two Together Used To Get All File From Directory\n",
    "import os\n",
    "import glob\n",
    "\n",
    "# Set Default Options\n",
    "pd.set_option(\"display.max_columns\", None)\n",
    "pd.options.display.float_format = '{:,.3f}'.format"
   ]
  },
  {
   "cell_type": "markdown",
   "id": "7723da5c",
   "metadata": {},
   "source": [
    "<h2 style=\"font: bold 28px tahoma\">Load All Data in One DataFrame</h2>"
   ]
  },
  {
   "cell_type": "code",
   "execution_count": 2,
   "id": "e33c7497",
   "metadata": {},
   "outputs": [],
   "source": [
    "my_path = os.getcwd()\n",
    "\n",
    "# To Get All Months CSV Files From Directory\n",
    "all_csv_files = glob.glob(os.path.join(my_path, \"*.csv\"))\n",
    "\n",
    "# Create Emptry DF To Put all Data Into\n",
    "df = pd.DataFrame()\n",
    "\n",
    "# Concating All Data In Our DF\n",
    "for f in all_csv_files:\n",
    "    df = pd.concat([df, pd.read_csv(f)])"
   ]
  },
  {
   "cell_type": "markdown",
   "id": "ad150353",
   "metadata": {},
   "source": [
    "<h1 style=\"font: bold 28px tahoma\">Data Exploration & Understanding ⛏️</h1>"
   ]
  },
  {
   "cell_type": "code",
   "execution_count": 3,
   "id": "48c60f15",
   "metadata": {},
   "outputs": [
    {
     "name": "stdout",
     "output_type": "stream",
     "text": [
      "Rows: 186850\n",
      "Columns: 6\n"
     ]
    }
   ],
   "source": [
    "print(f\"Rows: {df.shape[0]}\")\n",
    "print(f\"Columns: {df.shape[1]}\")"
   ]
  },
  {
   "cell_type": "code",
   "execution_count": 4,
   "id": "eaa9d279",
   "metadata": {},
   "outputs": [
    {
     "name": "stdout",
     "output_type": "stream",
     "text": [
      "<class 'pandas.core.frame.DataFrame'>\n",
      "Int64Index: 186850 entries, 0 to 11685\n",
      "Data columns (total 6 columns):\n",
      " #   Column            Non-Null Count   Dtype \n",
      "---  ------            --------------   ----- \n",
      " 0   Order ID          186305 non-null  object\n",
      " 1   Product           186305 non-null  object\n",
      " 2   Quantity Ordered  186305 non-null  object\n",
      " 3   Price Each        186305 non-null  object\n",
      " 4   Order Date        186305 non-null  object\n",
      " 5   Purchase Address  186305 non-null  object\n",
      "dtypes: object(6)\n",
      "memory usage: 10.0+ MB\n"
     ]
    }
   ],
   "source": [
    "df.info()"
   ]
  },
  {
   "cell_type": "code",
   "execution_count": 5,
   "id": "d1f595a2",
   "metadata": {},
   "outputs": [
    {
     "data": {
      "text/html": [
       "<div>\n",
       "<style scoped>\n",
       "    .dataframe tbody tr th:only-of-type {\n",
       "        vertical-align: middle;\n",
       "    }\n",
       "\n",
       "    .dataframe tbody tr th {\n",
       "        vertical-align: top;\n",
       "    }\n",
       "\n",
       "    .dataframe thead th {\n",
       "        text-align: right;\n",
       "    }\n",
       "</style>\n",
       "<table border=\"1\" class=\"dataframe\">\n",
       "  <thead>\n",
       "    <tr style=\"text-align: right;\">\n",
       "      <th></th>\n",
       "      <th>Order ID</th>\n",
       "      <th>Product</th>\n",
       "      <th>Quantity Ordered</th>\n",
       "      <th>Price Each</th>\n",
       "      <th>Order Date</th>\n",
       "      <th>Purchase Address</th>\n",
       "    </tr>\n",
       "  </thead>\n",
       "  <tbody>\n",
       "    <tr>\n",
       "      <th>0</th>\n",
       "      <td>176558</td>\n",
       "      <td>USB-C Charging Cable</td>\n",
       "      <td>2</td>\n",
       "      <td>11.95</td>\n",
       "      <td>04/19/19 08:46</td>\n",
       "      <td>917 1st St, Dallas, TX 75001</td>\n",
       "    </tr>\n",
       "    <tr>\n",
       "      <th>1</th>\n",
       "      <td>NaN</td>\n",
       "      <td>NaN</td>\n",
       "      <td>NaN</td>\n",
       "      <td>NaN</td>\n",
       "      <td>NaN</td>\n",
       "      <td>NaN</td>\n",
       "    </tr>\n",
       "    <tr>\n",
       "      <th>2</th>\n",
       "      <td>176559</td>\n",
       "      <td>Bose SoundSport Headphones</td>\n",
       "      <td>1</td>\n",
       "      <td>99.99</td>\n",
       "      <td>04/07/19 22:30</td>\n",
       "      <td>682 Chestnut St, Boston, MA 02215</td>\n",
       "    </tr>\n",
       "    <tr>\n",
       "      <th>3</th>\n",
       "      <td>176560</td>\n",
       "      <td>Google Phone</td>\n",
       "      <td>1</td>\n",
       "      <td>600</td>\n",
       "      <td>04/12/19 14:38</td>\n",
       "      <td>669 Spruce St, Los Angeles, CA 90001</td>\n",
       "    </tr>\n",
       "    <tr>\n",
       "      <th>4</th>\n",
       "      <td>176560</td>\n",
       "      <td>Wired Headphones</td>\n",
       "      <td>1</td>\n",
       "      <td>11.99</td>\n",
       "      <td>04/12/19 14:38</td>\n",
       "      <td>669 Spruce St, Los Angeles, CA 90001</td>\n",
       "    </tr>\n",
       "  </tbody>\n",
       "</table>\n",
       "</div>"
      ],
      "text/plain": [
       "  Order ID                     Product Quantity Ordered Price Each  \\\n",
       "0   176558        USB-C Charging Cable                2      11.95   \n",
       "1      NaN                         NaN              NaN        NaN   \n",
       "2   176559  Bose SoundSport Headphones                1      99.99   \n",
       "3   176560                Google Phone                1        600   \n",
       "4   176560            Wired Headphones                1      11.99   \n",
       "\n",
       "       Order Date                      Purchase Address  \n",
       "0  04/19/19 08:46          917 1st St, Dallas, TX 75001  \n",
       "1             NaN                                   NaN  \n",
       "2  04/07/19 22:30     682 Chestnut St, Boston, MA 02215  \n",
       "3  04/12/19 14:38  669 Spruce St, Los Angeles, CA 90001  \n",
       "4  04/12/19 14:38  669 Spruce St, Los Angeles, CA 90001  "
      ]
     },
     "execution_count": 5,
     "metadata": {},
     "output_type": "execute_result"
    }
   ],
   "source": [
    "df.head()"
   ]
  },
  {
   "cell_type": "code",
   "execution_count": 6,
   "id": "ab5ea250",
   "metadata": {},
   "outputs": [
    {
     "data": {
      "text/plain": [
       "Order ID            object\n",
       "Product             object\n",
       "Quantity Ordered    object\n",
       "Price Each          object\n",
       "Order Date          object\n",
       "Purchase Address    object\n",
       "dtype: object"
      ]
     },
     "execution_count": 6,
     "metadata": {},
     "output_type": "execute_result"
    }
   ],
   "source": [
    "df.dtypes"
   ]
  },
  {
   "cell_type": "markdown",
   "id": "f4797962",
   "metadata": {},
   "source": [
    "<h2 style=\"font: bold 28px tahoma\">Look at Nan Values!!🧐 </h2>"
   ]
  },
  {
   "cell_type": "code",
   "execution_count": 5,
   "id": "bbe31348",
   "metadata": {},
   "outputs": [
    {
     "data": {
      "text/plain": [
       "Order ID            545\n",
       "Product             545\n",
       "Quantity Ordered    545\n",
       "Price Each          545\n",
       "Order Date          545\n",
       "Purchase Address    545\n",
       "dtype: int64"
      ]
     },
     "execution_count": 5,
     "metadata": {},
     "output_type": "execute_result"
    }
   ],
   "source": [
    "# Check For Nan Values\n",
    "df.isna().sum()"
   ]
  },
  {
   "cell_type": "code",
   "execution_count": 6,
   "id": "e7515af0",
   "metadata": {},
   "outputs": [
    {
     "data": {
      "text/html": [
       "<div>\n",
       "<style scoped>\n",
       "    .dataframe tbody tr th:only-of-type {\n",
       "        vertical-align: middle;\n",
       "    }\n",
       "\n",
       "    .dataframe tbody tr th {\n",
       "        vertical-align: top;\n",
       "    }\n",
       "\n",
       "    .dataframe thead th {\n",
       "        text-align: right;\n",
       "    }\n",
       "</style>\n",
       "<table border=\"1\" class=\"dataframe\">\n",
       "  <thead>\n",
       "    <tr style=\"text-align: right;\">\n",
       "      <th></th>\n",
       "      <th>Order ID</th>\n",
       "      <th>Product</th>\n",
       "      <th>Quantity Ordered</th>\n",
       "      <th>Price Each</th>\n",
       "      <th>Order Date</th>\n",
       "      <th>Purchase Address</th>\n",
       "    </tr>\n",
       "  </thead>\n",
       "  <tbody>\n",
       "    <tr>\n",
       "      <th>1</th>\n",
       "      <td>NaN</td>\n",
       "      <td>NaN</td>\n",
       "      <td>NaN</td>\n",
       "      <td>NaN</td>\n",
       "      <td>NaN</td>\n",
       "      <td>NaN</td>\n",
       "    </tr>\n",
       "    <tr>\n",
       "      <th>356</th>\n",
       "      <td>NaN</td>\n",
       "      <td>NaN</td>\n",
       "      <td>NaN</td>\n",
       "      <td>NaN</td>\n",
       "      <td>NaN</td>\n",
       "      <td>NaN</td>\n",
       "    </tr>\n",
       "    <tr>\n",
       "      <th>735</th>\n",
       "      <td>NaN</td>\n",
       "      <td>NaN</td>\n",
       "      <td>NaN</td>\n",
       "      <td>NaN</td>\n",
       "      <td>NaN</td>\n",
       "      <td>NaN</td>\n",
       "    </tr>\n",
       "    <tr>\n",
       "      <th>1433</th>\n",
       "      <td>NaN</td>\n",
       "      <td>NaN</td>\n",
       "      <td>NaN</td>\n",
       "      <td>NaN</td>\n",
       "      <td>NaN</td>\n",
       "      <td>NaN</td>\n",
       "    </tr>\n",
       "    <tr>\n",
       "      <th>1553</th>\n",
       "      <td>NaN</td>\n",
       "      <td>NaN</td>\n",
       "      <td>NaN</td>\n",
       "      <td>NaN</td>\n",
       "      <td>NaN</td>\n",
       "      <td>NaN</td>\n",
       "    </tr>\n",
       "    <tr>\n",
       "      <th>...</th>\n",
       "      <td>...</td>\n",
       "      <td>...</td>\n",
       "      <td>...</td>\n",
       "      <td>...</td>\n",
       "      <td>...</td>\n",
       "      <td>...</td>\n",
       "    </tr>\n",
       "    <tr>\n",
       "      <th>10012</th>\n",
       "      <td>NaN</td>\n",
       "      <td>NaN</td>\n",
       "      <td>NaN</td>\n",
       "      <td>NaN</td>\n",
       "      <td>NaN</td>\n",
       "      <td>NaN</td>\n",
       "    </tr>\n",
       "    <tr>\n",
       "      <th>10274</th>\n",
       "      <td>NaN</td>\n",
       "      <td>NaN</td>\n",
       "      <td>NaN</td>\n",
       "      <td>NaN</td>\n",
       "      <td>NaN</td>\n",
       "      <td>NaN</td>\n",
       "    </tr>\n",
       "    <tr>\n",
       "      <th>10878</th>\n",
       "      <td>NaN</td>\n",
       "      <td>NaN</td>\n",
       "      <td>NaN</td>\n",
       "      <td>NaN</td>\n",
       "      <td>NaN</td>\n",
       "      <td>NaN</td>\n",
       "    </tr>\n",
       "    <tr>\n",
       "      <th>11384</th>\n",
       "      <td>NaN</td>\n",
       "      <td>NaN</td>\n",
       "      <td>NaN</td>\n",
       "      <td>NaN</td>\n",
       "      <td>NaN</td>\n",
       "      <td>NaN</td>\n",
       "    </tr>\n",
       "    <tr>\n",
       "      <th>11662</th>\n",
       "      <td>NaN</td>\n",
       "      <td>NaN</td>\n",
       "      <td>NaN</td>\n",
       "      <td>NaN</td>\n",
       "      <td>NaN</td>\n",
       "      <td>NaN</td>\n",
       "    </tr>\n",
       "  </tbody>\n",
       "</table>\n",
       "<p>545 rows × 6 columns</p>\n",
       "</div>"
      ],
      "text/plain": [
       "      Order ID Product Quantity Ordered Price Each Order Date Purchase Address\n",
       "1          NaN     NaN              NaN        NaN        NaN              NaN\n",
       "356        NaN     NaN              NaN        NaN        NaN              NaN\n",
       "735        NaN     NaN              NaN        NaN        NaN              NaN\n",
       "1433       NaN     NaN              NaN        NaN        NaN              NaN\n",
       "1553       NaN     NaN              NaN        NaN        NaN              NaN\n",
       "...        ...     ...              ...        ...        ...              ...\n",
       "10012      NaN     NaN              NaN        NaN        NaN              NaN\n",
       "10274      NaN     NaN              NaN        NaN        NaN              NaN\n",
       "10878      NaN     NaN              NaN        NaN        NaN              NaN\n",
       "11384      NaN     NaN              NaN        NaN        NaN              NaN\n",
       "11662      NaN     NaN              NaN        NaN        NaN              NaN\n",
       "\n",
       "[545 rows x 6 columns]"
      ]
     },
     "execution_count": 6,
     "metadata": {},
     "output_type": "execute_result"
    }
   ],
   "source": [
    "# Display All Records That Has No Data. Only Has Nan Values!!\n",
    "df[df.isna().all(axis=1)]"
   ]
  },
  {
   "cell_type": "code",
   "execution_count": 7,
   "id": "b6fddc93",
   "metadata": {},
   "outputs": [],
   "source": [
    "# Drop Records That All Cells Are Nan Valus\n",
    "df.dropna(how=\"all\", inplace=True)"
   ]
  },
  {
   "cell_type": "code",
   "execution_count": 8,
   "id": "0379cc4b",
   "metadata": {},
   "outputs": [
    {
     "data": {
      "text/plain": [
       "Order ID            0\n",
       "Product             0\n",
       "Quantity Ordered    0\n",
       "Price Each          0\n",
       "Order Date          0\n",
       "Purchase Address    0\n",
       "dtype: int64"
      ]
     },
     "execution_count": 8,
     "metadata": {},
     "output_type": "execute_result"
    }
   ],
   "source": [
    "df.isna().sum()"
   ]
  },
  {
   "cell_type": "markdown",
   "id": "a6039ec6",
   "metadata": {},
   "source": [
    "<h2 style=\"font: bold 28px tahoma\">Look Deeper at Each Column & Cleaning 🧹</h2>"
   ]
  },
  {
   "cell_type": "markdown",
   "id": "4a5b6e5e",
   "metadata": {},
   "source": [
    "## Firstly: *Clean The Columns Name From Any Spaces*"
   ]
  },
  {
   "cell_type": "code",
   "execution_count": 9,
   "id": "a6ae957c",
   "metadata": {},
   "outputs": [],
   "source": [
    "df.columns = df.columns.str.replace(\" \", \"_\")"
   ]
  },
  {
   "cell_type": "markdown",
   "id": "e7347f33",
   "metadata": {},
   "source": [
    "### ♣ Order Id Column"
   ]
  },
  {
   "cell_type": "code",
   "execution_count": 10,
   "id": "223b0173",
   "metadata": {},
   "outputs": [
    {
     "data": {
      "text/plain": [
       "Order ID    355\n",
       "160873        5\n",
       "289117        4\n",
       "226625        4\n",
       "277875        4\n",
       "           ... \n",
       "158177        1\n",
       "158178        1\n",
       "158179        1\n",
       "158180        1\n",
       "259357        1\n",
       "Name: Order_ID, Length: 178438, dtype: int64"
      ]
     },
     "execution_count": 10,
     "metadata": {},
     "output_type": "execute_result"
    }
   ],
   "source": [
    "df[\"Order_ID\"].value_counts()"
   ]
  },
  {
   "cell_type": "code",
   "execution_count": 12,
   "id": "6772e1ae",
   "metadata": {},
   "outputs": [
    {
     "data": {
      "text/html": [
       "<div>\n",
       "<style scoped>\n",
       "    .dataframe tbody tr th:only-of-type {\n",
       "        vertical-align: middle;\n",
       "    }\n",
       "\n",
       "    .dataframe tbody tr th {\n",
       "        vertical-align: top;\n",
       "    }\n",
       "\n",
       "    .dataframe thead th {\n",
       "        text-align: right;\n",
       "    }\n",
       "</style>\n",
       "<table border=\"1\" class=\"dataframe\">\n",
       "  <thead>\n",
       "    <tr style=\"text-align: right;\">\n",
       "      <th></th>\n",
       "      <th>Order_ID</th>\n",
       "      <th>Product</th>\n",
       "      <th>Quantity_Ordered</th>\n",
       "      <th>Price_Each</th>\n",
       "      <th>Order_Date</th>\n",
       "      <th>Purchase_Address</th>\n",
       "    </tr>\n",
       "  </thead>\n",
       "  <tbody>\n",
       "    <tr>\n",
       "      <th>519</th>\n",
       "      <td>Order ID</td>\n",
       "      <td>Product</td>\n",
       "      <td>Quantity Ordered</td>\n",
       "      <td>Price Each</td>\n",
       "      <td>Order Date</td>\n",
       "      <td>Purchase Address</td>\n",
       "    </tr>\n",
       "    <tr>\n",
       "      <th>1149</th>\n",
       "      <td>Order ID</td>\n",
       "      <td>Product</td>\n",
       "      <td>Quantity Ordered</td>\n",
       "      <td>Price Each</td>\n",
       "      <td>Order Date</td>\n",
       "      <td>Purchase Address</td>\n",
       "    </tr>\n",
       "    <tr>\n",
       "      <th>1155</th>\n",
       "      <td>Order ID</td>\n",
       "      <td>Product</td>\n",
       "      <td>Quantity Ordered</td>\n",
       "      <td>Price Each</td>\n",
       "      <td>Order Date</td>\n",
       "      <td>Purchase Address</td>\n",
       "    </tr>\n",
       "    <tr>\n",
       "      <th>2878</th>\n",
       "      <td>Order ID</td>\n",
       "      <td>Product</td>\n",
       "      <td>Quantity Ordered</td>\n",
       "      <td>Price Each</td>\n",
       "      <td>Order Date</td>\n",
       "      <td>Purchase Address</td>\n",
       "    </tr>\n",
       "    <tr>\n",
       "      <th>2893</th>\n",
       "      <td>Order ID</td>\n",
       "      <td>Product</td>\n",
       "      <td>Quantity Ordered</td>\n",
       "      <td>Price Each</td>\n",
       "      <td>Order Date</td>\n",
       "      <td>Purchase Address</td>\n",
       "    </tr>\n",
       "    <tr>\n",
       "      <th>...</th>\n",
       "      <td>...</td>\n",
       "      <td>...</td>\n",
       "      <td>...</td>\n",
       "      <td>...</td>\n",
       "      <td>...</td>\n",
       "      <td>...</td>\n",
       "    </tr>\n",
       "    <tr>\n",
       "      <th>10000</th>\n",
       "      <td>Order ID</td>\n",
       "      <td>Product</td>\n",
       "      <td>Quantity Ordered</td>\n",
       "      <td>Price Each</td>\n",
       "      <td>Order Date</td>\n",
       "      <td>Purchase Address</td>\n",
       "    </tr>\n",
       "    <tr>\n",
       "      <th>10387</th>\n",
       "      <td>Order ID</td>\n",
       "      <td>Product</td>\n",
       "      <td>Quantity Ordered</td>\n",
       "      <td>Price Each</td>\n",
       "      <td>Order Date</td>\n",
       "      <td>Purchase Address</td>\n",
       "    </tr>\n",
       "    <tr>\n",
       "      <th>11399</th>\n",
       "      <td>Order ID</td>\n",
       "      <td>Product</td>\n",
       "      <td>Quantity Ordered</td>\n",
       "      <td>Price Each</td>\n",
       "      <td>Order Date</td>\n",
       "      <td>Purchase Address</td>\n",
       "    </tr>\n",
       "    <tr>\n",
       "      <th>11468</th>\n",
       "      <td>Order ID</td>\n",
       "      <td>Product</td>\n",
       "      <td>Quantity Ordered</td>\n",
       "      <td>Price Each</td>\n",
       "      <td>Order Date</td>\n",
       "      <td>Purchase Address</td>\n",
       "    </tr>\n",
       "    <tr>\n",
       "      <th>11574</th>\n",
       "      <td>Order ID</td>\n",
       "      <td>Product</td>\n",
       "      <td>Quantity Ordered</td>\n",
       "      <td>Price Each</td>\n",
       "      <td>Order Date</td>\n",
       "      <td>Purchase Address</td>\n",
       "    </tr>\n",
       "  </tbody>\n",
       "</table>\n",
       "<p>355 rows × 6 columns</p>\n",
       "</div>"
      ],
      "text/plain": [
       "       Order_ID  Product  Quantity_Ordered  Price_Each  Order_Date  \\\n",
       "519    Order ID  Product  Quantity Ordered  Price Each  Order Date   \n",
       "1149   Order ID  Product  Quantity Ordered  Price Each  Order Date   \n",
       "1155   Order ID  Product  Quantity Ordered  Price Each  Order Date   \n",
       "2878   Order ID  Product  Quantity Ordered  Price Each  Order Date   \n",
       "2893   Order ID  Product  Quantity Ordered  Price Each  Order Date   \n",
       "...         ...      ...               ...         ...         ...   \n",
       "10000  Order ID  Product  Quantity Ordered  Price Each  Order Date   \n",
       "10387  Order ID  Product  Quantity Ordered  Price Each  Order Date   \n",
       "11399  Order ID  Product  Quantity Ordered  Price Each  Order Date   \n",
       "11468  Order ID  Product  Quantity Ordered  Price Each  Order Date   \n",
       "11574  Order ID  Product  Quantity Ordered  Price Each  Order Date   \n",
       "\n",
       "       Purchase_Address  \n",
       "519    Purchase Address  \n",
       "1149   Purchase Address  \n",
       "1155   Purchase Address  \n",
       "2878   Purchase Address  \n",
       "2893   Purchase Address  \n",
       "...                 ...  \n",
       "10000  Purchase Address  \n",
       "10387  Purchase Address  \n",
       "11399  Purchase Address  \n",
       "11468  Purchase Address  \n",
       "11574  Purchase Address  \n",
       "\n",
       "[355 rows x 6 columns]"
      ]
     },
     "execution_count": 12,
     "metadata": {},
     "output_type": "execute_result"
    }
   ],
   "source": [
    "# Look At All Records When Value of Order Id Column = 'Order Id'\n",
    "filt = df[\"Order_ID\"] == \"Order ID\"\n",
    "\n",
    "df[filt]"
   ]
  },
  {
   "cell_type": "markdown",
   "id": "f94d121d",
   "metadata": {},
   "source": [
    "<h2 style=\"color: #FF5B22; font: bold 22px tahoma\">We Got Unexpected Results!! 🤔</h2>\n",
    "<p style=\"color: brown; font: bold 18px tahoma\">There are Many Cells That <u>Do Not Have Any Meaning</u>. Just contain the name of the column over and over!.!</p>"
   ]
  },
  {
   "cell_type": "code",
   "execution_count": 13,
   "id": "104ad7a6",
   "metadata": {},
   "outputs": [],
   "source": [
    "# Drop All Records That Contain The Column Name Itsel As a Value\n",
    "df.drop(df[filt].index, inplace=True)"
   ]
  },
  {
   "cell_type": "code",
   "execution_count": 14,
   "id": "3ef3768f",
   "metadata": {},
   "outputs": [
    {
     "data": {
      "text/plain": [
       "160873    5\n",
       "277875    4\n",
       "295681    4\n",
       "289117    4\n",
       "165665    4\n",
       "         ..\n",
       "158076    1\n",
       "158077    1\n",
       "158078    1\n",
       "158079    1\n",
       "259357    1\n",
       "Name: Order_ID, Length: 175449, dtype: int64"
      ]
     },
     "execution_count": 14,
     "metadata": {},
     "output_type": "execute_result"
    }
   ],
   "source": [
    "df[\"Order_ID\"].value_counts()"
   ]
  },
  {
   "cell_type": "markdown",
   "id": "3f11a6fa",
   "metadata": {},
   "source": [
    "### Product Column 👔"
   ]
  },
  {
   "cell_type": "code",
   "execution_count": 15,
   "id": "bdd205f3",
   "metadata": {},
   "outputs": [
    {
     "data": {
      "text/plain": [
       "array(['USB-C Charging Cable', 'Bose SoundSport Headphones',\n",
       "       'Google Phone', 'Wired Headphones', 'Macbook Pro Laptop',\n",
       "       'Lightning Charging Cable', '27in 4K Gaming Monitor',\n",
       "       'AA Batteries (4-pack)', 'Apple Airpods Headphones',\n",
       "       'AAA Batteries (4-pack)', 'iPhone', 'Flatscreen TV',\n",
       "       '27in FHD Monitor', '20in Monitor', 'LG Dryer', 'ThinkPad Laptop',\n",
       "       'Vareebadd Phone', 'LG Washing Machine', '34in Ultrawide Monitor'],\n",
       "      dtype=object)"
      ]
     },
     "execution_count": 15,
     "metadata": {},
     "output_type": "execute_result"
    }
   ],
   "source": [
    "df[\"Product\"].unique()"
   ]
  },
  {
   "cell_type": "code",
   "execution_count": 16,
   "id": "b26abbe7",
   "metadata": {},
   "outputs": [
    {
     "name": "stdout",
     "output_type": "stream",
     "text": [
      "Number of Different Products: 19\n"
     ]
    }
   ],
   "source": [
    "different_product = df[\"Product\"].nunique()\n",
    "print(f\"Number of Different Products: {different_product}\")"
   ]
  },
  {
   "cell_type": "code",
   "execution_count": 17,
   "id": "5274d3eb",
   "metadata": {},
   "outputs": [
    {
     "data": {
      "text/plain": [
       "USB-C Charging Cable          21523\n",
       "Lightning Charging Cable      21308\n",
       "AAA Batteries (4-pack)        20293\n",
       "AA Batteries (4-pack)         20214\n",
       "Wired Headphones              18552\n",
       "Apple Airpods Headphones      15273\n",
       "Bose SoundSport Headphones    13109\n",
       "27in FHD Monitor               7386\n",
       "iPhone                         6725\n",
       "27in 4K Gaming Monitor         6122\n",
       "34in Ultrawide Monitor         6058\n",
       "Google Phone                   5433\n",
       "Flatscreen TV                  4705\n",
       "Macbook Pro Laptop             4641\n",
       "ThinkPad Laptop                4052\n",
       "20in Monitor                   4032\n",
       "Vareebadd Phone                2020\n",
       "LG Washing Machine              649\n",
       "LG Dryer                        640\n",
       "Name: Product, dtype: int64"
      ]
     },
     "execution_count": 17,
     "metadata": {},
     "output_type": "execute_result"
    }
   ],
   "source": [
    "df[\"Product\"].value_counts()"
   ]
  },
  {
   "cell_type": "markdown",
   "id": "46e92211",
   "metadata": {},
   "source": [
    "### Quantity Ordered Column 🛒"
   ]
  },
  {
   "cell_type": "code",
   "execution_count": 18,
   "id": "226c9133",
   "metadata": {},
   "outputs": [
    {
     "data": {
      "text/plain": [
       "array(['2', '1', '3', '5', '4', '7', '6', '8', '9'], dtype=object)"
      ]
     },
     "execution_count": 18,
     "metadata": {},
     "output_type": "execute_result"
    }
   ],
   "source": [
    "df[\"Quantity_Ordered\"].unique()"
   ]
  },
  {
   "cell_type": "code",
   "execution_count": 19,
   "id": "caf065c9",
   "metadata": {},
   "outputs": [
    {
     "data": {
      "text/plain": [
       "1    165650\n",
       "2     13082\n",
       "3      2870\n",
       "4       789\n",
       "5       232\n",
       "6        80\n",
       "7        24\n",
       "8         5\n",
       "9         3\n",
       "Name: Quantity_Ordered, dtype: int64"
      ]
     },
     "execution_count": 19,
     "metadata": {},
     "output_type": "execute_result"
    }
   ],
   "source": [
    "df[\"Quantity_Ordered\"].value_counts()"
   ]
  },
  {
   "cell_type": "code",
   "execution_count": 20,
   "id": "78d8b771",
   "metadata": {},
   "outputs": [
    {
     "data": {
      "text/plain": [
       "dtype('O')"
      ]
     },
     "execution_count": 20,
     "metadata": {},
     "output_type": "execute_result"
    }
   ],
   "source": [
    "df[\"Quantity_Ordered\"].dtype"
   ]
  },
  {
   "cell_type": "code",
   "execution_count": 21,
   "id": "7ab2740f",
   "metadata": {},
   "outputs": [
    {
     "data": {
      "text/plain": [
       "dtype('int8')"
      ]
     },
     "execution_count": 21,
     "metadata": {},
     "output_type": "execute_result"
    }
   ],
   "source": [
    "# Converting Quantity_Ordered Into Integer Data Type\n",
    "df[\"Quantity_Ordered\"] = df[\"Quantity_Ordered\"].astype(np.int8)\n",
    "df[\"Quantity_Ordered\"].dtype"
   ]
  },
  {
   "cell_type": "markdown",
   "id": "eb11385d",
   "metadata": {},
   "source": [
    "### Price_Each Column 💰💵"
   ]
  },
  {
   "cell_type": "code",
   "execution_count": 22,
   "id": "51616329",
   "metadata": {},
   "outputs": [
    {
     "data": {
      "text/plain": [
       "dtype('O')"
      ]
     },
     "execution_count": 22,
     "metadata": {},
     "output_type": "execute_result"
    }
   ],
   "source": [
    "df[\"Price_Each\"].dtype"
   ]
  },
  {
   "cell_type": "code",
   "execution_count": 23,
   "id": "b155ebf5",
   "metadata": {},
   "outputs": [],
   "source": [
    "# Converting Price Into Float Data Type\n",
    "df[\"Price_Each\"] = df[\"Price_Each\"].astype(np.float32)"
   ]
  },
  {
   "cell_type": "code",
   "execution_count": 24,
   "id": "c7f7b728",
   "metadata": {},
   "outputs": [
    {
     "data": {
      "text/plain": [
       "array([  11.95,   99.99,  600.  ,   11.99, 1700.  ,   14.95,  389.99,\n",
       "          3.84,  150.  ,    2.99,  700.  ,  300.  ,  149.99,  109.99,\n",
       "        999.99,  400.  ,  379.99], dtype=float32)"
      ]
     },
     "execution_count": 24,
     "metadata": {},
     "output_type": "execute_result"
    }
   ],
   "source": [
    "df[\"Price_Each\"].unique()"
   ]
  },
  {
   "cell_type": "code",
   "execution_count": 25,
   "id": "2d55ce97",
   "metadata": {},
   "outputs": [
    {
     "data": {
      "text/plain": [
       "count   182,735.000\n",
       "mean        184.315\n",
       "std         332.671\n",
       "min           2.990\n",
       "25%          11.950\n",
       "50%          14.950\n",
       "75%         150.000\n",
       "max       1,700.000\n",
       "Name: Price_Each, dtype: float64"
      ]
     },
     "execution_count": 25,
     "metadata": {},
     "output_type": "execute_result"
    }
   ],
   "source": [
    "df[\"Price_Each\"].describe()"
   ]
  },
  {
   "cell_type": "markdown",
   "id": "c79f74a1",
   "metadata": {},
   "source": [
    "### Order_Date Column 📆"
   ]
  },
  {
   "cell_type": "code",
   "execution_count": 26,
   "id": "82ad94c4",
   "metadata": {},
   "outputs": [
    {
     "data": {
      "text/plain": [
       "dtype('O')"
      ]
     },
     "execution_count": 26,
     "metadata": {},
     "output_type": "execute_result"
    }
   ],
   "source": [
    "df[\"Order_Date\"].dtype"
   ]
  },
  {
   "cell_type": "code",
   "execution_count": 27,
   "id": "b1177466",
   "metadata": {},
   "outputs": [],
   "source": [
    "# Convertign Date Column Into DateTime\n",
    "df[\"Order_Date\"] = pd.to_datetime(df[\"Order_Date\"])"
   ]
  },
  {
   "cell_type": "code",
   "execution_count": 28,
   "id": "46700876",
   "metadata": {},
   "outputs": [
    {
     "name": "stdout",
     "output_type": "stream",
     "text": [
      "First Date: 2019-01-01 03:07:00\n",
      "Last  Date: 2020-01-01 05:13:00\n",
      "365 days 02:06:00\n"
     ]
    }
   ],
   "source": [
    "print(f'First Date: {df[\"Order_Date\"].min()}')\n",
    "print(f'Last  Date: {df[\"Order_Date\"].max()}')\n",
    "print(df[\"Order_Date\"].max() - df[\"Order_Date\"].min())"
   ]
  },
  {
   "cell_type": "markdown",
   "id": "9df406ab",
   "metadata": {},
   "source": [
    "### Set The Order_Id as The DataFrame Index"
   ]
  },
  {
   "cell_type": "code",
   "execution_count": 29,
   "id": "4611d28a",
   "metadata": {},
   "outputs": [],
   "source": [
    "df.set_index(\"Order_ID\", inplace=True)"
   ]
  },
  {
   "cell_type": "code",
   "execution_count": 30,
   "id": "cafe176b",
   "metadata": {},
   "outputs": [],
   "source": [
    "df.index = df.index.astype(int)"
   ]
  },
  {
   "cell_type": "code",
   "execution_count": 31,
   "id": "3af22b7f",
   "metadata": {},
   "outputs": [
    {
     "data": {
      "text/html": [
       "<div>\n",
       "<style scoped>\n",
       "    .dataframe tbody tr th:only-of-type {\n",
       "        vertical-align: middle;\n",
       "    }\n",
       "\n",
       "    .dataframe tbody tr th {\n",
       "        vertical-align: top;\n",
       "    }\n",
       "\n",
       "    .dataframe thead th {\n",
       "        text-align: right;\n",
       "    }\n",
       "</style>\n",
       "<table border=\"1\" class=\"dataframe\">\n",
       "  <thead>\n",
       "    <tr style=\"text-align: right;\">\n",
       "      <th></th>\n",
       "      <th>Product</th>\n",
       "      <th>Quantity_Ordered</th>\n",
       "      <th>Price_Each</th>\n",
       "      <th>Order_Date</th>\n",
       "      <th>Purchase_Address</th>\n",
       "    </tr>\n",
       "    <tr>\n",
       "      <th>Order_ID</th>\n",
       "      <th></th>\n",
       "      <th></th>\n",
       "      <th></th>\n",
       "      <th></th>\n",
       "      <th></th>\n",
       "    </tr>\n",
       "  </thead>\n",
       "  <tbody>\n",
       "    <tr>\n",
       "      <th>176558</th>\n",
       "      <td>USB-C Charging Cable</td>\n",
       "      <td>2</td>\n",
       "      <td>11.950</td>\n",
       "      <td>2019-04-19 08:46:00</td>\n",
       "      <td>917 1st St, Dallas, TX 75001</td>\n",
       "    </tr>\n",
       "    <tr>\n",
       "      <th>176559</th>\n",
       "      <td>Bose SoundSport Headphones</td>\n",
       "      <td>1</td>\n",
       "      <td>99.990</td>\n",
       "      <td>2019-04-07 22:30:00</td>\n",
       "      <td>682 Chestnut St, Boston, MA 02215</td>\n",
       "    </tr>\n",
       "    <tr>\n",
       "      <th>176560</th>\n",
       "      <td>Google Phone</td>\n",
       "      <td>1</td>\n",
       "      <td>600.000</td>\n",
       "      <td>2019-04-12 14:38:00</td>\n",
       "      <td>669 Spruce St, Los Angeles, CA 90001</td>\n",
       "    </tr>\n",
       "    <tr>\n",
       "      <th>176560</th>\n",
       "      <td>Wired Headphones</td>\n",
       "      <td>1</td>\n",
       "      <td>11.990</td>\n",
       "      <td>2019-04-12 14:38:00</td>\n",
       "      <td>669 Spruce St, Los Angeles, CA 90001</td>\n",
       "    </tr>\n",
       "    <tr>\n",
       "      <th>176561</th>\n",
       "      <td>Wired Headphones</td>\n",
       "      <td>1</td>\n",
       "      <td>11.990</td>\n",
       "      <td>2019-04-30 09:27:00</td>\n",
       "      <td>333 8th St, Los Angeles, CA 90001</td>\n",
       "    </tr>\n",
       "    <tr>\n",
       "      <th>176562</th>\n",
       "      <td>USB-C Charging Cable</td>\n",
       "      <td>1</td>\n",
       "      <td>11.950</td>\n",
       "      <td>2019-04-29 13:03:00</td>\n",
       "      <td>381 Wilson St, San Francisco, CA 94016</td>\n",
       "    </tr>\n",
       "    <tr>\n",
       "      <th>176563</th>\n",
       "      <td>Bose SoundSport Headphones</td>\n",
       "      <td>1</td>\n",
       "      <td>99.990</td>\n",
       "      <td>2019-04-02 07:46:00</td>\n",
       "      <td>668 Center St, Seattle, WA 98101</td>\n",
       "    </tr>\n",
       "    <tr>\n",
       "      <th>176564</th>\n",
       "      <td>USB-C Charging Cable</td>\n",
       "      <td>1</td>\n",
       "      <td>11.950</td>\n",
       "      <td>2019-04-12 10:58:00</td>\n",
       "      <td>790 Ridge St, Atlanta, GA 30301</td>\n",
       "    </tr>\n",
       "    <tr>\n",
       "      <th>176565</th>\n",
       "      <td>Macbook Pro Laptop</td>\n",
       "      <td>1</td>\n",
       "      <td>1,700.000</td>\n",
       "      <td>2019-04-24 10:38:00</td>\n",
       "      <td>915 Willow St, San Francisco, CA 94016</td>\n",
       "    </tr>\n",
       "    <tr>\n",
       "      <th>176566</th>\n",
       "      <td>Wired Headphones</td>\n",
       "      <td>1</td>\n",
       "      <td>11.990</td>\n",
       "      <td>2019-04-08 14:05:00</td>\n",
       "      <td>83 7th St, Boston, MA 02215</td>\n",
       "    </tr>\n",
       "  </tbody>\n",
       "</table>\n",
       "</div>"
      ],
      "text/plain": [
       "                             Product  Quantity_Ordered  Price_Each  \\\n",
       "Order_ID                                                             \n",
       "176558          USB-C Charging Cable                 2      11.950   \n",
       "176559    Bose SoundSport Headphones                 1      99.990   \n",
       "176560                  Google Phone                 1     600.000   \n",
       "176560              Wired Headphones                 1      11.990   \n",
       "176561              Wired Headphones                 1      11.990   \n",
       "176562          USB-C Charging Cable                 1      11.950   \n",
       "176563    Bose SoundSport Headphones                 1      99.990   \n",
       "176564          USB-C Charging Cable                 1      11.950   \n",
       "176565            Macbook Pro Laptop                 1   1,700.000   \n",
       "176566              Wired Headphones                 1      11.990   \n",
       "\n",
       "                  Order_Date                        Purchase_Address  \n",
       "Order_ID                                                              \n",
       "176558   2019-04-19 08:46:00            917 1st St, Dallas, TX 75001  \n",
       "176559   2019-04-07 22:30:00       682 Chestnut St, Boston, MA 02215  \n",
       "176560   2019-04-12 14:38:00    669 Spruce St, Los Angeles, CA 90001  \n",
       "176560   2019-04-12 14:38:00    669 Spruce St, Los Angeles, CA 90001  \n",
       "176561   2019-04-30 09:27:00       333 8th St, Los Angeles, CA 90001  \n",
       "176562   2019-04-29 13:03:00  381 Wilson St, San Francisco, CA 94016  \n",
       "176563   2019-04-02 07:46:00        668 Center St, Seattle, WA 98101  \n",
       "176564   2019-04-12 10:58:00         790 Ridge St, Atlanta, GA 30301  \n",
       "176565   2019-04-24 10:38:00  915 Willow St, San Francisco, CA 94016  \n",
       "176566   2019-04-08 14:05:00             83 7th St, Boston, MA 02215  "
      ]
     },
     "execution_count": 31,
     "metadata": {},
     "output_type": "execute_result"
    }
   ],
   "source": [
    "df.head(10)"
   ]
  },
  {
   "cell_type": "code",
   "execution_count": 32,
   "id": "d5ef2c81",
   "metadata": {},
   "outputs": [
    {
     "data": {
      "text/plain": [
       "Product                     object\n",
       "Quantity_Ordered              int8\n",
       "Price_Each                 float32\n",
       "Order_Date          datetime64[ns]\n",
       "Purchase_Address            object\n",
       "dtype: object"
      ]
     },
     "execution_count": 32,
     "metadata": {},
     "output_type": "execute_result"
    }
   ],
   "source": [
    "df.dtypes"
   ]
  },
  {
   "cell_type": "markdown",
   "id": "6a294962",
   "metadata": {},
   "source": [
    "<h2 style=\"font: bold 28px tahoma\">Check For Duplicated Records</h2>"
   ]
  },
  {
   "cell_type": "code",
   "execution_count": 33,
   "id": "2a48802a",
   "metadata": {},
   "outputs": [
    {
     "data": {
      "text/plain": [
       "7286"
      ]
     },
     "execution_count": 33,
     "metadata": {},
     "output_type": "execute_result"
    }
   ],
   "source": [
    "# Check Duplicated Id\n",
    "df.index.duplicated().sum()"
   ]
  },
  {
   "cell_type": "code",
   "execution_count": 34,
   "id": "b24b83b4",
   "metadata": {},
   "outputs": [
    {
     "data": {
      "text/html": [
       "<div>\n",
       "<style scoped>\n",
       "    .dataframe tbody tr th:only-of-type {\n",
       "        vertical-align: middle;\n",
       "    }\n",
       "\n",
       "    .dataframe tbody tr th {\n",
       "        vertical-align: top;\n",
       "    }\n",
       "\n",
       "    .dataframe thead th {\n",
       "        text-align: right;\n",
       "    }\n",
       "</style>\n",
       "<table border=\"1\" class=\"dataframe\">\n",
       "  <thead>\n",
       "    <tr style=\"text-align: right;\">\n",
       "      <th></th>\n",
       "      <th>Product</th>\n",
       "      <th>Quantity_Ordered</th>\n",
       "      <th>Price_Each</th>\n",
       "      <th>Order_Date</th>\n",
       "      <th>Purchase_Address</th>\n",
       "    </tr>\n",
       "    <tr>\n",
       "      <th>Order_ID</th>\n",
       "      <th></th>\n",
       "      <th></th>\n",
       "      <th></th>\n",
       "      <th></th>\n",
       "      <th></th>\n",
       "    </tr>\n",
       "  </thead>\n",
       "  <tbody>\n",
       "    <tr>\n",
       "      <th>176560</th>\n",
       "      <td>Wired Headphones</td>\n",
       "      <td>1</td>\n",
       "      <td>11.990</td>\n",
       "      <td>2019-04-12 14:38:00</td>\n",
       "      <td>669 Spruce St, Los Angeles, CA 90001</td>\n",
       "    </tr>\n",
       "    <tr>\n",
       "      <th>176574</th>\n",
       "      <td>USB-C Charging Cable</td>\n",
       "      <td>1</td>\n",
       "      <td>11.950</td>\n",
       "      <td>2019-04-03 19:42:00</td>\n",
       "      <td>20 Hill St, Los Angeles, CA 90001</td>\n",
       "    </tr>\n",
       "    <tr>\n",
       "      <th>176585</th>\n",
       "      <td>Bose SoundSport Headphones</td>\n",
       "      <td>1</td>\n",
       "      <td>99.990</td>\n",
       "      <td>2019-04-07 11:31:00</td>\n",
       "      <td>823 Highland St, Boston, MA 02215</td>\n",
       "    </tr>\n",
       "    <tr>\n",
       "      <th>176586</th>\n",
       "      <td>Google Phone</td>\n",
       "      <td>1</td>\n",
       "      <td>600.000</td>\n",
       "      <td>2019-04-10 17:00:00</td>\n",
       "      <td>365 Center St, San Francisco, CA 94016</td>\n",
       "    </tr>\n",
       "    <tr>\n",
       "      <th>176672</th>\n",
       "      <td>USB-C Charging Cable</td>\n",
       "      <td>1</td>\n",
       "      <td>11.950</td>\n",
       "      <td>2019-04-12 11:07:00</td>\n",
       "      <td>778 Maple St, New York City, NY 10001</td>\n",
       "    </tr>\n",
       "    <tr>\n",
       "      <th>176681</th>\n",
       "      <td>ThinkPad Laptop</td>\n",
       "      <td>1</td>\n",
       "      <td>999.990</td>\n",
       "      <td>2019-04-20 10:39:00</td>\n",
       "      <td>331 Cherry St, Seattle, WA 98101</td>\n",
       "    </tr>\n",
       "    <tr>\n",
       "      <th>176689</th>\n",
       "      <td>AAA Batteries (4-pack)</td>\n",
       "      <td>2</td>\n",
       "      <td>2.990</td>\n",
       "      <td>2019-04-24 17:15:00</td>\n",
       "      <td>659 Lincoln St, New York City, NY 10001</td>\n",
       "    </tr>\n",
       "    <tr>\n",
       "      <th>176739</th>\n",
       "      <td>Google Phone</td>\n",
       "      <td>1</td>\n",
       "      <td>600.000</td>\n",
       "      <td>2019-04-05 17:38:00</td>\n",
       "      <td>730 6th St, Austin, TX 73301</td>\n",
       "    </tr>\n",
       "    <tr>\n",
       "      <th>176774</th>\n",
       "      <td>USB-C Charging Cable</td>\n",
       "      <td>1</td>\n",
       "      <td>11.950</td>\n",
       "      <td>2019-04-25 15:06:00</td>\n",
       "      <td>372 Church St, Los Angeles, CA 90001</td>\n",
       "    </tr>\n",
       "    <tr>\n",
       "      <th>176781</th>\n",
       "      <td>Lightning Charging Cable</td>\n",
       "      <td>1</td>\n",
       "      <td>14.950</td>\n",
       "      <td>2019-04-03 07:37:00</td>\n",
       "      <td>976 Hickory St, Dallas, TX 75001</td>\n",
       "    </tr>\n",
       "  </tbody>\n",
       "</table>\n",
       "</div>"
      ],
      "text/plain": [
       "                             Product  Quantity_Ordered  Price_Each  \\\n",
       "Order_ID                                                             \n",
       "176560              Wired Headphones                 1      11.990   \n",
       "176574          USB-C Charging Cable                 1      11.950   \n",
       "176585    Bose SoundSport Headphones                 1      99.990   \n",
       "176586                  Google Phone                 1     600.000   \n",
       "176672          USB-C Charging Cable                 1      11.950   \n",
       "176681               ThinkPad Laptop                 1     999.990   \n",
       "176689        AAA Batteries (4-pack)                 2       2.990   \n",
       "176739                  Google Phone                 1     600.000   \n",
       "176774          USB-C Charging Cable                 1      11.950   \n",
       "176781      Lightning Charging Cable                 1      14.950   \n",
       "\n",
       "                  Order_Date                         Purchase_Address  \n",
       "Order_ID                                                               \n",
       "176560   2019-04-12 14:38:00     669 Spruce St, Los Angeles, CA 90001  \n",
       "176574   2019-04-03 19:42:00        20 Hill St, Los Angeles, CA 90001  \n",
       "176585   2019-04-07 11:31:00        823 Highland St, Boston, MA 02215  \n",
       "176586   2019-04-10 17:00:00   365 Center St, San Francisco, CA 94016  \n",
       "176672   2019-04-12 11:07:00    778 Maple St, New York City, NY 10001  \n",
       "176681   2019-04-20 10:39:00         331 Cherry St, Seattle, WA 98101  \n",
       "176689   2019-04-24 17:15:00  659 Lincoln St, New York City, NY 10001  \n",
       "176739   2019-04-05 17:38:00             730 6th St, Austin, TX 73301  \n",
       "176774   2019-04-25 15:06:00     372 Church St, Los Angeles, CA 90001  \n",
       "176781   2019-04-03 07:37:00         976 Hickory St, Dallas, TX 75001  "
      ]
     },
     "execution_count": 34,
     "metadata": {},
     "output_type": "execute_result"
    }
   ],
   "source": [
    "df[df.index.duplicated()].head(10)"
   ]
  },
  {
   "cell_type": "code",
   "execution_count": 35,
   "id": "336d0811",
   "metadata": {},
   "outputs": [
    {
     "data": {
      "text/html": [
       "<div>\n",
       "<style scoped>\n",
       "    .dataframe tbody tr th:only-of-type {\n",
       "        vertical-align: middle;\n",
       "    }\n",
       "\n",
       "    .dataframe tbody tr th {\n",
       "        vertical-align: top;\n",
       "    }\n",
       "\n",
       "    .dataframe thead th {\n",
       "        text-align: right;\n",
       "    }\n",
       "</style>\n",
       "<table border=\"1\" class=\"dataframe\">\n",
       "  <thead>\n",
       "    <tr style=\"text-align: right;\">\n",
       "      <th></th>\n",
       "      <th>Product</th>\n",
       "      <th>Quantity_Ordered</th>\n",
       "      <th>Price_Each</th>\n",
       "      <th>Order_Date</th>\n",
       "      <th>Purchase_Address</th>\n",
       "    </tr>\n",
       "    <tr>\n",
       "      <th>Order_ID</th>\n",
       "      <th></th>\n",
       "      <th></th>\n",
       "      <th></th>\n",
       "      <th></th>\n",
       "      <th></th>\n",
       "    </tr>\n",
       "  </thead>\n",
       "  <tbody>\n",
       "    <tr>\n",
       "      <th>176689</th>\n",
       "      <td>Bose SoundSport Headphones</td>\n",
       "      <td>1</td>\n",
       "      <td>99.990</td>\n",
       "      <td>2019-04-24 17:15:00</td>\n",
       "      <td>659 Lincoln St, New York City, NY 10001</td>\n",
       "    </tr>\n",
       "    <tr>\n",
       "      <th>176689</th>\n",
       "      <td>AAA Batteries (4-pack)</td>\n",
       "      <td>2</td>\n",
       "      <td>2.990</td>\n",
       "      <td>2019-04-24 17:15:00</td>\n",
       "      <td>659 Lincoln St, New York City, NY 10001</td>\n",
       "    </tr>\n",
       "  </tbody>\n",
       "</table>\n",
       "</div>"
      ],
      "text/plain": [
       "                             Product  Quantity_Ordered  Price_Each  \\\n",
       "Order_ID                                                             \n",
       "176689    Bose SoundSport Headphones                 1      99.990   \n",
       "176689        AAA Batteries (4-pack)                 2       2.990   \n",
       "\n",
       "                  Order_Date                         Purchase_Address  \n",
       "Order_ID                                                               \n",
       "176689   2019-04-24 17:15:00  659 Lincoln St, New York City, NY 10001  \n",
       "176689   2019-04-24 17:15:00  659 Lincoln St, New York City, NY 10001  "
      ]
     },
     "execution_count": 35,
     "metadata": {},
     "output_type": "execute_result"
    }
   ],
   "source": [
    "# Check For Duplicated Records\n",
    "df.loc[176689]"
   ]
  },
  {
   "cell_type": "markdown",
   "id": "15760deb",
   "metadata": {},
   "source": [
    "<p style=\"color: #FFDD83; background-color: #222; padding: 15px; font: bold 15px arial;\">\n",
    "    ► So, it's not really duplicated, but the same user ordered multiple times a two different products.</p>"
   ]
  },
  {
   "cell_type": "markdown",
   "id": "a46123fb",
   "metadata": {},
   "source": [
    "<h2 style=\"font: bold 28px tahoma\">Before Analysis! Lets Select & Add Columns ⛏️😇</h2>"
   ]
  },
  {
   "cell_type": "markdown",
   "id": "cfa3c7cc",
   "metadata": {},
   "source": [
    "## Add Month Column 📅\n",
    "#### ► Because The Whole Data Is in The Sme Year, But For 12 Months, we will add another column that contains the month number"
   ]
  },
  {
   "cell_type": "code",
   "execution_count": 36,
   "id": "1b5af2ee",
   "metadata": {},
   "outputs": [],
   "source": [
    "df[\"Month\"] = df[\"Order_Date\"].dt.month"
   ]
  },
  {
   "cell_type": "code",
   "execution_count": 37,
   "id": "9875c759",
   "metadata": {},
   "outputs": [
    {
     "data": {
      "text/html": [
       "<div>\n",
       "<style scoped>\n",
       "    .dataframe tbody tr th:only-of-type {\n",
       "        vertical-align: middle;\n",
       "    }\n",
       "\n",
       "    .dataframe tbody tr th {\n",
       "        vertical-align: top;\n",
       "    }\n",
       "\n",
       "    .dataframe thead th {\n",
       "        text-align: right;\n",
       "    }\n",
       "</style>\n",
       "<table border=\"1\" class=\"dataframe\">\n",
       "  <thead>\n",
       "    <tr style=\"text-align: right;\">\n",
       "      <th></th>\n",
       "      <th>Product</th>\n",
       "      <th>Quantity_Ordered</th>\n",
       "      <th>Price_Each</th>\n",
       "      <th>Order_Date</th>\n",
       "      <th>Purchase_Address</th>\n",
       "      <th>Month</th>\n",
       "    </tr>\n",
       "    <tr>\n",
       "      <th>Order_ID</th>\n",
       "      <th></th>\n",
       "      <th></th>\n",
       "      <th></th>\n",
       "      <th></th>\n",
       "      <th></th>\n",
       "      <th></th>\n",
       "    </tr>\n",
       "  </thead>\n",
       "  <tbody>\n",
       "    <tr>\n",
       "      <th>176558</th>\n",
       "      <td>USB-C Charging Cable</td>\n",
       "      <td>2</td>\n",
       "      <td>11.950</td>\n",
       "      <td>2019-04-19 08:46:00</td>\n",
       "      <td>917 1st St, Dallas, TX 75001</td>\n",
       "      <td>4</td>\n",
       "    </tr>\n",
       "    <tr>\n",
       "      <th>176559</th>\n",
       "      <td>Bose SoundSport Headphones</td>\n",
       "      <td>1</td>\n",
       "      <td>99.990</td>\n",
       "      <td>2019-04-07 22:30:00</td>\n",
       "      <td>682 Chestnut St, Boston, MA 02215</td>\n",
       "      <td>4</td>\n",
       "    </tr>\n",
       "    <tr>\n",
       "      <th>176560</th>\n",
       "      <td>Google Phone</td>\n",
       "      <td>1</td>\n",
       "      <td>600.000</td>\n",
       "      <td>2019-04-12 14:38:00</td>\n",
       "      <td>669 Spruce St, Los Angeles, CA 90001</td>\n",
       "      <td>4</td>\n",
       "    </tr>\n",
       "    <tr>\n",
       "      <th>176560</th>\n",
       "      <td>Wired Headphones</td>\n",
       "      <td>1</td>\n",
       "      <td>11.990</td>\n",
       "      <td>2019-04-12 14:38:00</td>\n",
       "      <td>669 Spruce St, Los Angeles, CA 90001</td>\n",
       "      <td>4</td>\n",
       "    </tr>\n",
       "    <tr>\n",
       "      <th>176561</th>\n",
       "      <td>Wired Headphones</td>\n",
       "      <td>1</td>\n",
       "      <td>11.990</td>\n",
       "      <td>2019-04-30 09:27:00</td>\n",
       "      <td>333 8th St, Los Angeles, CA 90001</td>\n",
       "      <td>4</td>\n",
       "    </tr>\n",
       "  </tbody>\n",
       "</table>\n",
       "</div>"
      ],
      "text/plain": [
       "                             Product  Quantity_Ordered  Price_Each  \\\n",
       "Order_ID                                                             \n",
       "176558          USB-C Charging Cable                 2      11.950   \n",
       "176559    Bose SoundSport Headphones                 1      99.990   \n",
       "176560                  Google Phone                 1     600.000   \n",
       "176560              Wired Headphones                 1      11.990   \n",
       "176561              Wired Headphones                 1      11.990   \n",
       "\n",
       "                  Order_Date                      Purchase_Address  Month  \n",
       "Order_ID                                                                   \n",
       "176558   2019-04-19 08:46:00          917 1st St, Dallas, TX 75001      4  \n",
       "176559   2019-04-07 22:30:00     682 Chestnut St, Boston, MA 02215      4  \n",
       "176560   2019-04-12 14:38:00  669 Spruce St, Los Angeles, CA 90001      4  \n",
       "176560   2019-04-12 14:38:00  669 Spruce St, Los Angeles, CA 90001      4  \n",
       "176561   2019-04-30 09:27:00     333 8th St, Los Angeles, CA 90001      4  "
      ]
     },
     "execution_count": 37,
     "metadata": {},
     "output_type": "execute_result"
    }
   ],
   "source": [
    "df.head()"
   ]
  },
  {
   "cell_type": "markdown",
   "id": "d4a1a6fc",
   "metadata": {},
   "source": [
    "## ► Get The State From Whole Address!! 🌎\n",
    "#### <u style=\"color:orangered\">Important Notice</u>: The Purchase_Address Consists of 3 Parts → (Street, City, State)"
   ]
  },
  {
   "cell_type": "code",
   "execution_count": 38,
   "id": "30c8a497",
   "metadata": {},
   "outputs": [],
   "source": [
    "df[\"State\"] = df[\"Purchase_Address\"].str.split(\", \", expand=True)[2]\\\n",
    ".apply(lambda x: x[:2])"
   ]
  },
  {
   "cell_type": "code",
   "execution_count": 39,
   "id": "70ed215c",
   "metadata": {},
   "outputs": [
    {
     "data": {
      "text/html": [
       "<div>\n",
       "<style scoped>\n",
       "    .dataframe tbody tr th:only-of-type {\n",
       "        vertical-align: middle;\n",
       "    }\n",
       "\n",
       "    .dataframe tbody tr th {\n",
       "        vertical-align: top;\n",
       "    }\n",
       "\n",
       "    .dataframe thead th {\n",
       "        text-align: right;\n",
       "    }\n",
       "</style>\n",
       "<table border=\"1\" class=\"dataframe\">\n",
       "  <thead>\n",
       "    <tr style=\"text-align: right;\">\n",
       "      <th></th>\n",
       "      <th>Product</th>\n",
       "      <th>Quantity_Ordered</th>\n",
       "      <th>Price_Each</th>\n",
       "      <th>Order_Date</th>\n",
       "      <th>Purchase_Address</th>\n",
       "      <th>Month</th>\n",
       "      <th>State</th>\n",
       "    </tr>\n",
       "    <tr>\n",
       "      <th>Order_ID</th>\n",
       "      <th></th>\n",
       "      <th></th>\n",
       "      <th></th>\n",
       "      <th></th>\n",
       "      <th></th>\n",
       "      <th></th>\n",
       "      <th></th>\n",
       "    </tr>\n",
       "  </thead>\n",
       "  <tbody>\n",
       "    <tr>\n",
       "      <th>176558</th>\n",
       "      <td>USB-C Charging Cable</td>\n",
       "      <td>2</td>\n",
       "      <td>11.950</td>\n",
       "      <td>2019-04-19 08:46:00</td>\n",
       "      <td>917 1st St, Dallas, TX 75001</td>\n",
       "      <td>4</td>\n",
       "      <td>TX</td>\n",
       "    </tr>\n",
       "    <tr>\n",
       "      <th>176559</th>\n",
       "      <td>Bose SoundSport Headphones</td>\n",
       "      <td>1</td>\n",
       "      <td>99.990</td>\n",
       "      <td>2019-04-07 22:30:00</td>\n",
       "      <td>682 Chestnut St, Boston, MA 02215</td>\n",
       "      <td>4</td>\n",
       "      <td>MA</td>\n",
       "    </tr>\n",
       "    <tr>\n",
       "      <th>176560</th>\n",
       "      <td>Google Phone</td>\n",
       "      <td>1</td>\n",
       "      <td>600.000</td>\n",
       "      <td>2019-04-12 14:38:00</td>\n",
       "      <td>669 Spruce St, Los Angeles, CA 90001</td>\n",
       "      <td>4</td>\n",
       "      <td>CA</td>\n",
       "    </tr>\n",
       "    <tr>\n",
       "      <th>176560</th>\n",
       "      <td>Wired Headphones</td>\n",
       "      <td>1</td>\n",
       "      <td>11.990</td>\n",
       "      <td>2019-04-12 14:38:00</td>\n",
       "      <td>669 Spruce St, Los Angeles, CA 90001</td>\n",
       "      <td>4</td>\n",
       "      <td>CA</td>\n",
       "    </tr>\n",
       "    <tr>\n",
       "      <th>176561</th>\n",
       "      <td>Wired Headphones</td>\n",
       "      <td>1</td>\n",
       "      <td>11.990</td>\n",
       "      <td>2019-04-30 09:27:00</td>\n",
       "      <td>333 8th St, Los Angeles, CA 90001</td>\n",
       "      <td>4</td>\n",
       "      <td>CA</td>\n",
       "    </tr>\n",
       "  </tbody>\n",
       "</table>\n",
       "</div>"
      ],
      "text/plain": [
       "                             Product  Quantity_Ordered  Price_Each  \\\n",
       "Order_ID                                                             \n",
       "176558          USB-C Charging Cable                 2      11.950   \n",
       "176559    Bose SoundSport Headphones                 1      99.990   \n",
       "176560                  Google Phone                 1     600.000   \n",
       "176560              Wired Headphones                 1      11.990   \n",
       "176561              Wired Headphones                 1      11.990   \n",
       "\n",
       "                  Order_Date                      Purchase_Address  Month  \\\n",
       "Order_ID                                                                    \n",
       "176558   2019-04-19 08:46:00          917 1st St, Dallas, TX 75001      4   \n",
       "176559   2019-04-07 22:30:00     682 Chestnut St, Boston, MA 02215      4   \n",
       "176560   2019-04-12 14:38:00  669 Spruce St, Los Angeles, CA 90001      4   \n",
       "176560   2019-04-12 14:38:00  669 Spruce St, Los Angeles, CA 90001      4   \n",
       "176561   2019-04-30 09:27:00     333 8th St, Los Angeles, CA 90001      4   \n",
       "\n",
       "         State  \n",
       "Order_ID        \n",
       "176558      TX  \n",
       "176559      MA  \n",
       "176560      CA  \n",
       "176560      CA  \n",
       "176561      CA  "
      ]
     },
     "execution_count": 39,
     "metadata": {},
     "output_type": "execute_result"
    }
   ],
   "source": [
    "df.head()"
   ]
  },
  {
   "cell_type": "code",
   "execution_count": 44,
   "id": "6ef4bfe4",
   "metadata": {},
   "outputs": [],
   "source": [
    "states_url = \"https://raw.githubusercontent.com/jasonong/List-of-US-States/master/states.csv\"\n",
    "states_df = pd.read_csv(states_url, index_col=\"Abbreviation\")\n",
    "\n",
    "def state_full_name(state_abbreviation):\n",
    "    \"\"\"\n",
    "        Function Used To Search for the full name of the state abbreviation\n",
    "        • Take Only one Arg: The State's Abbreviation [MA, CA, TX]\n",
    "        → Return The State's Full Name\n",
    "    \"\"\"\n",
    "    return states_df.loc[state_abbreviation.upper().strip()][0]"
   ]
  },
  {
   "cell_type": "code",
   "execution_count": 45,
   "id": "6d7444af",
   "metadata": {},
   "outputs": [
    {
     "data": {
      "text/plain": [
       "'California'"
      ]
     },
     "execution_count": 45,
     "metadata": {},
     "output_type": "execute_result"
    }
   ],
   "source": [
    "state_full_name(\"CA\")"
   ]
  },
  {
   "cell_type": "markdown",
   "id": "7e9668c5",
   "metadata": {},
   "source": [
    "## Get The Total Sales For Each Recore\n",
    "Total Sale  = Price_Each  * Quantity"
   ]
  },
  {
   "cell_type": "code",
   "execution_count": 43,
   "id": "bb10d0a3",
   "metadata": {},
   "outputs": [],
   "source": [
    "df[\"Price_Total\"] = df[\"Price_Each\"] * df[\"Quantity_Ordered\"]"
   ]
  },
  {
   "cell_type": "code",
   "execution_count": 44,
   "id": "782827b0",
   "metadata": {},
   "outputs": [
    {
     "data": {
      "text/html": [
       "<div>\n",
       "<style scoped>\n",
       "    .dataframe tbody tr th:only-of-type {\n",
       "        vertical-align: middle;\n",
       "    }\n",
       "\n",
       "    .dataframe tbody tr th {\n",
       "        vertical-align: top;\n",
       "    }\n",
       "\n",
       "    .dataframe thead th {\n",
       "        text-align: right;\n",
       "    }\n",
       "</style>\n",
       "<table border=\"1\" class=\"dataframe\">\n",
       "  <thead>\n",
       "    <tr style=\"text-align: right;\">\n",
       "      <th></th>\n",
       "      <th>Product</th>\n",
       "      <th>Quantity_Ordered</th>\n",
       "      <th>Price_Each</th>\n",
       "      <th>Order_Date</th>\n",
       "      <th>Purchase_Address</th>\n",
       "      <th>Month</th>\n",
       "      <th>State</th>\n",
       "      <th>Price_Total</th>\n",
       "    </tr>\n",
       "    <tr>\n",
       "      <th>Order_ID</th>\n",
       "      <th></th>\n",
       "      <th></th>\n",
       "      <th></th>\n",
       "      <th></th>\n",
       "      <th></th>\n",
       "      <th></th>\n",
       "      <th></th>\n",
       "      <th></th>\n",
       "    </tr>\n",
       "  </thead>\n",
       "  <tbody>\n",
       "    <tr>\n",
       "      <th>176558</th>\n",
       "      <td>USB-C Charging Cable</td>\n",
       "      <td>2</td>\n",
       "      <td>11.950</td>\n",
       "      <td>2019-04-19 08:46:00</td>\n",
       "      <td>917 1st St, Dallas, TX 75001</td>\n",
       "      <td>4</td>\n",
       "      <td>TX</td>\n",
       "      <td>23.900</td>\n",
       "    </tr>\n",
       "    <tr>\n",
       "      <th>176559</th>\n",
       "      <td>Bose SoundSport Headphones</td>\n",
       "      <td>1</td>\n",
       "      <td>99.990</td>\n",
       "      <td>2019-04-07 22:30:00</td>\n",
       "      <td>682 Chestnut St, Boston, MA 02215</td>\n",
       "      <td>4</td>\n",
       "      <td>MA</td>\n",
       "      <td>99.990</td>\n",
       "    </tr>\n",
       "    <tr>\n",
       "      <th>176560</th>\n",
       "      <td>Google Phone</td>\n",
       "      <td>1</td>\n",
       "      <td>600.000</td>\n",
       "      <td>2019-04-12 14:38:00</td>\n",
       "      <td>669 Spruce St, Los Angeles, CA 90001</td>\n",
       "      <td>4</td>\n",
       "      <td>CA</td>\n",
       "      <td>600.000</td>\n",
       "    </tr>\n",
       "    <tr>\n",
       "      <th>176560</th>\n",
       "      <td>Wired Headphones</td>\n",
       "      <td>1</td>\n",
       "      <td>11.990</td>\n",
       "      <td>2019-04-12 14:38:00</td>\n",
       "      <td>669 Spruce St, Los Angeles, CA 90001</td>\n",
       "      <td>4</td>\n",
       "      <td>CA</td>\n",
       "      <td>11.990</td>\n",
       "    </tr>\n",
       "    <tr>\n",
       "      <th>176561</th>\n",
       "      <td>Wired Headphones</td>\n",
       "      <td>1</td>\n",
       "      <td>11.990</td>\n",
       "      <td>2019-04-30 09:27:00</td>\n",
       "      <td>333 8th St, Los Angeles, CA 90001</td>\n",
       "      <td>4</td>\n",
       "      <td>CA</td>\n",
       "      <td>11.990</td>\n",
       "    </tr>\n",
       "    <tr>\n",
       "      <th>176562</th>\n",
       "      <td>USB-C Charging Cable</td>\n",
       "      <td>1</td>\n",
       "      <td>11.950</td>\n",
       "      <td>2019-04-29 13:03:00</td>\n",
       "      <td>381 Wilson St, San Francisco, CA 94016</td>\n",
       "      <td>4</td>\n",
       "      <td>CA</td>\n",
       "      <td>11.950</td>\n",
       "    </tr>\n",
       "    <tr>\n",
       "      <th>176563</th>\n",
       "      <td>Bose SoundSport Headphones</td>\n",
       "      <td>1</td>\n",
       "      <td>99.990</td>\n",
       "      <td>2019-04-02 07:46:00</td>\n",
       "      <td>668 Center St, Seattle, WA 98101</td>\n",
       "      <td>4</td>\n",
       "      <td>WA</td>\n",
       "      <td>99.990</td>\n",
       "    </tr>\n",
       "    <tr>\n",
       "      <th>176564</th>\n",
       "      <td>USB-C Charging Cable</td>\n",
       "      <td>1</td>\n",
       "      <td>11.950</td>\n",
       "      <td>2019-04-12 10:58:00</td>\n",
       "      <td>790 Ridge St, Atlanta, GA 30301</td>\n",
       "      <td>4</td>\n",
       "      <td>GA</td>\n",
       "      <td>11.950</td>\n",
       "    </tr>\n",
       "    <tr>\n",
       "      <th>176565</th>\n",
       "      <td>Macbook Pro Laptop</td>\n",
       "      <td>1</td>\n",
       "      <td>1,700.000</td>\n",
       "      <td>2019-04-24 10:38:00</td>\n",
       "      <td>915 Willow St, San Francisco, CA 94016</td>\n",
       "      <td>4</td>\n",
       "      <td>CA</td>\n",
       "      <td>1,700.000</td>\n",
       "    </tr>\n",
       "    <tr>\n",
       "      <th>176566</th>\n",
       "      <td>Wired Headphones</td>\n",
       "      <td>1</td>\n",
       "      <td>11.990</td>\n",
       "      <td>2019-04-08 14:05:00</td>\n",
       "      <td>83 7th St, Boston, MA 02215</td>\n",
       "      <td>4</td>\n",
       "      <td>MA</td>\n",
       "      <td>11.990</td>\n",
       "    </tr>\n",
       "  </tbody>\n",
       "</table>\n",
       "</div>"
      ],
      "text/plain": [
       "                             Product  Quantity_Ordered  Price_Each  \\\n",
       "Order_ID                                                             \n",
       "176558          USB-C Charging Cable                 2      11.950   \n",
       "176559    Bose SoundSport Headphones                 1      99.990   \n",
       "176560                  Google Phone                 1     600.000   \n",
       "176560              Wired Headphones                 1      11.990   \n",
       "176561              Wired Headphones                 1      11.990   \n",
       "176562          USB-C Charging Cable                 1      11.950   \n",
       "176563    Bose SoundSport Headphones                 1      99.990   \n",
       "176564          USB-C Charging Cable                 1      11.950   \n",
       "176565            Macbook Pro Laptop                 1   1,700.000   \n",
       "176566              Wired Headphones                 1      11.990   \n",
       "\n",
       "                  Order_Date                        Purchase_Address  Month  \\\n",
       "Order_ID                                                                      \n",
       "176558   2019-04-19 08:46:00            917 1st St, Dallas, TX 75001      4   \n",
       "176559   2019-04-07 22:30:00       682 Chestnut St, Boston, MA 02215      4   \n",
       "176560   2019-04-12 14:38:00    669 Spruce St, Los Angeles, CA 90001      4   \n",
       "176560   2019-04-12 14:38:00    669 Spruce St, Los Angeles, CA 90001      4   \n",
       "176561   2019-04-30 09:27:00       333 8th St, Los Angeles, CA 90001      4   \n",
       "176562   2019-04-29 13:03:00  381 Wilson St, San Francisco, CA 94016      4   \n",
       "176563   2019-04-02 07:46:00        668 Center St, Seattle, WA 98101      4   \n",
       "176564   2019-04-12 10:58:00         790 Ridge St, Atlanta, GA 30301      4   \n",
       "176565   2019-04-24 10:38:00  915 Willow St, San Francisco, CA 94016      4   \n",
       "176566   2019-04-08 14:05:00             83 7th St, Boston, MA 02215      4   \n",
       "\n",
       "         State  Price_Total  \n",
       "Order_ID                     \n",
       "176558      TX       23.900  \n",
       "176559      MA       99.990  \n",
       "176560      CA      600.000  \n",
       "176560      CA       11.990  \n",
       "176561      CA       11.990  \n",
       "176562      CA       11.950  \n",
       "176563      WA       99.990  \n",
       "176564      GA       11.950  \n",
       "176565      CA    1,700.000  \n",
       "176566      MA       11.990  "
      ]
     },
     "execution_count": 44,
     "metadata": {},
     "output_type": "execute_result"
    }
   ],
   "source": [
    "df.head(10)"
   ]
  },
  {
   "cell_type": "markdown",
   "id": "c57a33b0",
   "metadata": {},
   "source": [
    "## Selecting Our Columns To Work With"
   ]
  },
  {
   "cell_type": "code",
   "execution_count": 46,
   "id": "274c6513",
   "metadata": {},
   "outputs": [],
   "source": [
    "df = df[[\"Order_Date\", \"Month\", \"State\", \"Product\", \"Quantity_Ordered\", \"Price_Each\", \"Price_Total\"]].copy()"
   ]
  },
  {
   "cell_type": "code",
   "execution_count": 47,
   "id": "8c4513f2",
   "metadata": {},
   "outputs": [
    {
     "data": {
      "text/html": [
       "<div>\n",
       "<style scoped>\n",
       "    .dataframe tbody tr th:only-of-type {\n",
       "        vertical-align: middle;\n",
       "    }\n",
       "\n",
       "    .dataframe tbody tr th {\n",
       "        vertical-align: top;\n",
       "    }\n",
       "\n",
       "    .dataframe thead th {\n",
       "        text-align: right;\n",
       "    }\n",
       "</style>\n",
       "<table border=\"1\" class=\"dataframe\">\n",
       "  <thead>\n",
       "    <tr style=\"text-align: right;\">\n",
       "      <th></th>\n",
       "      <th>Order_Date</th>\n",
       "      <th>Month</th>\n",
       "      <th>State</th>\n",
       "      <th>Product</th>\n",
       "      <th>Quantity_Ordered</th>\n",
       "      <th>Price_Each</th>\n",
       "      <th>City</th>\n",
       "    </tr>\n",
       "    <tr>\n",
       "      <th>Order_ID</th>\n",
       "      <th></th>\n",
       "      <th></th>\n",
       "      <th></th>\n",
       "      <th></th>\n",
       "      <th></th>\n",
       "      <th></th>\n",
       "      <th></th>\n",
       "    </tr>\n",
       "  </thead>\n",
       "  <tbody>\n",
       "    <tr>\n",
       "      <th>178941</th>\n",
       "      <td>2019-04-06 10:22:00</td>\n",
       "      <td>4</td>\n",
       "      <td>CA</td>\n",
       "      <td>Apple Airpods Headphones</td>\n",
       "      <td>1</td>\n",
       "      <td>150.000</td>\n",
       "      <td>San Francisco</td>\n",
       "    </tr>\n",
       "    <tr>\n",
       "      <th>316209</th>\n",
       "      <td>2019-12-18 13:04:00</td>\n",
       "      <td>12</td>\n",
       "      <td>TX</td>\n",
       "      <td>Bose SoundSport Headphones</td>\n",
       "      <td>1</td>\n",
       "      <td>99.990</td>\n",
       "      <td>Austin</td>\n",
       "    </tr>\n",
       "    <tr>\n",
       "      <th>190047</th>\n",
       "      <td>2019-04-23 13:45:00</td>\n",
       "      <td>4</td>\n",
       "      <td>NY</td>\n",
       "      <td>USB-C Charging Cable</td>\n",
       "      <td>1</td>\n",
       "      <td>11.950</td>\n",
       "      <td>New York City</td>\n",
       "    </tr>\n",
       "    <tr>\n",
       "      <th>290776</th>\n",
       "      <td>2019-11-26 10:42:00</td>\n",
       "      <td>11</td>\n",
       "      <td>TX</td>\n",
       "      <td>AA Batteries (4-pack)</td>\n",
       "      <td>1</td>\n",
       "      <td>3.840</td>\n",
       "      <td>Austin</td>\n",
       "    </tr>\n",
       "    <tr>\n",
       "      <th>167589</th>\n",
       "      <td>2019-03-10 21:29:00</td>\n",
       "      <td>3</td>\n",
       "      <td>ME</td>\n",
       "      <td>USB-C Charging Cable</td>\n",
       "      <td>1</td>\n",
       "      <td>11.950</td>\n",
       "      <td>Portland</td>\n",
       "    </tr>\n",
       "    <tr>\n",
       "      <th>291130</th>\n",
       "      <td>2019-11-02 23:58:00</td>\n",
       "      <td>11</td>\n",
       "      <td>NY</td>\n",
       "      <td>Apple Airpods Headphones</td>\n",
       "      <td>1</td>\n",
       "      <td>150.000</td>\n",
       "      <td>New York City</td>\n",
       "    </tr>\n",
       "    <tr>\n",
       "      <th>305885</th>\n",
       "      <td>2019-12-24 18:07:00</td>\n",
       "      <td>12</td>\n",
       "      <td>CA</td>\n",
       "      <td>iPhone</td>\n",
       "      <td>1</td>\n",
       "      <td>700.000</td>\n",
       "      <td>San Francisco</td>\n",
       "    </tr>\n",
       "    <tr>\n",
       "      <th>195582</th>\n",
       "      <td>2019-05-03 19:08:00</td>\n",
       "      <td>5</td>\n",
       "      <td>TX</td>\n",
       "      <td>Lightning Charging Cable</td>\n",
       "      <td>1</td>\n",
       "      <td>14.950</td>\n",
       "      <td>Dallas</td>\n",
       "    </tr>\n",
       "    <tr>\n",
       "      <th>280201</th>\n",
       "      <td>2019-11-15 15:33:00</td>\n",
       "      <td>11</td>\n",
       "      <td>NY</td>\n",
       "      <td>Apple Airpods Headphones</td>\n",
       "      <td>1</td>\n",
       "      <td>150.000</td>\n",
       "      <td>New York City</td>\n",
       "    </tr>\n",
       "    <tr>\n",
       "      <th>267130</th>\n",
       "      <td>2019-10-25 13:00:00</td>\n",
       "      <td>10</td>\n",
       "      <td>WA</td>\n",
       "      <td>Google Phone</td>\n",
       "      <td>1</td>\n",
       "      <td>600.000</td>\n",
       "      <td>Seattle</td>\n",
       "    </tr>\n",
       "  </tbody>\n",
       "</table>\n",
       "</div>"
      ],
      "text/plain": [
       "                  Order_Date  Month State                     Product  \\\n",
       "Order_ID                                                                \n",
       "178941   2019-04-06 10:22:00      4    CA    Apple Airpods Headphones   \n",
       "316209   2019-12-18 13:04:00     12    TX  Bose SoundSport Headphones   \n",
       "190047   2019-04-23 13:45:00      4    NY        USB-C Charging Cable   \n",
       "290776   2019-11-26 10:42:00     11    TX       AA Batteries (4-pack)   \n",
       "167589   2019-03-10 21:29:00      3    ME        USB-C Charging Cable   \n",
       "291130   2019-11-02 23:58:00     11    NY    Apple Airpods Headphones   \n",
       "305885   2019-12-24 18:07:00     12    CA                      iPhone   \n",
       "195582   2019-05-03 19:08:00      5    TX    Lightning Charging Cable   \n",
       "280201   2019-11-15 15:33:00     11    NY    Apple Airpods Headphones   \n",
       "267130   2019-10-25 13:00:00     10    WA                Google Phone   \n",
       "\n",
       "          Quantity_Ordered  Price_Each           City  \n",
       "Order_ID                                               \n",
       "178941                   1     150.000  San Francisco  \n",
       "316209                   1      99.990         Austin  \n",
       "190047                   1      11.950  New York City  \n",
       "290776                   1       3.840         Austin  \n",
       "167589                   1      11.950       Portland  \n",
       "291130                   1     150.000  New York City  \n",
       "305885                   1     700.000  San Francisco  \n",
       "195582                   1      14.950         Dallas  \n",
       "280201                   1     150.000  New York City  \n",
       "267130                   1     600.000        Seattle  "
      ]
     },
     "execution_count": 47,
     "metadata": {},
     "output_type": "execute_result"
    }
   ],
   "source": [
    "df.sample(10, random_state=8)"
   ]
  },
  {
   "cell_type": "markdown",
   "id": "4c8b85c6",
   "metadata": {},
   "source": [
    "# Finally!! Time To Ask Question & Get Insights 🤩📊"
   ]
  },
  {
   "cell_type": "markdown",
   "id": "581ed822",
   "metadata": {},
   "source": [
    "## ♠ *Which Month Has The Highest Sales?*"
   ]
  },
  {
   "cell_type": "code",
   "execution_count": 47,
   "id": "606f3659",
   "metadata": {},
   "outputs": [
    {
     "data": {
      "text/plain": [
       "Month\n",
       "1    1,786,511.250\n",
       "2    2,158,127.500\n",
       "3    2,755,969.500\n",
       "4    3,336,376.500\n",
       "5    3,101,881.000\n",
       "6    2,524,465.000\n",
       "7    2,587,445.000\n",
       "8    2,191,698.250\n",
       "9    2,050,361.250\n",
       "10   3,679,254.250\n",
       "11   3,149,785.000\n",
       "12   4,557,905.500\n",
       "Name: Price_Total, dtype: float32"
      ]
     },
     "execution_count": 47,
     "metadata": {},
     "output_type": "execute_result"
    }
   ],
   "source": [
    "month_groupped = df.groupby(\"Month\")[\"Price_Total\"].sum()\n",
    "month_groupped"
   ]
  },
  {
   "cell_type": "code",
   "execution_count": 48,
   "id": "621cf06b",
   "metadata": {},
   "outputs": [
    {
     "data": {
      "text/plain": [
       "Month\n",
       "12   4,557,905.500\n",
       "Name: Price_Total, dtype: float32"
      ]
     },
     "execution_count": 48,
     "metadata": {},
     "output_type": "execute_result"
    }
   ],
   "source": [
    "month_groupped.nlargest(1)"
   ]
  },
  {
   "cell_type": "code",
   "execution_count": 49,
   "id": "a167aac9",
   "metadata": {},
   "outputs": [],
   "source": [
    "months = month_groupped.index\n",
    "sales = month_groupped"
   ]
  },
  {
   "cell_type": "code",
   "execution_count": 50,
   "id": "7b4c6014",
   "metadata": {},
   "outputs": [
    {
     "data": {
      "image/png": "[encoded data removed]",
      "text/plain": [
       "<Figure size 800x400 with 1 Axes>"
      ]
     },
     "metadata": {},
     "output_type": "display_data"
    }
   ],
   "source": [
    "# Bar Plot\n",
    "plt.figure(figsize=(8, 4))\n",
    "\n",
    "plt.bar(months, sales, color= \"#141E46\")\n",
    "\n",
    "plt.xticks(months)\n",
    "plt.xlabel(\"Month\")\n",
    "plt.ylabel(\"Total Sales (Million)\")\n",
    "plt.title(\"Sales Via Month\", fontdict={\"fontfamily\": \"arial\", \n",
    "                                       \"fontsize\": \"15\", \n",
    "                                       \"fontweight\":\"bold\", \n",
    "                                       \"color\": \"#234\"})\n",
    "\n",
    "plt.show()"
   ]
  },
  {
   "cell_type": "markdown",
   "id": "9fc1b972",
   "metadata": {},
   "source": [
    "## ♠ *Which Months Have Sales Greater Than The Median of Total Sales?*"
   ]
  },
  {
   "cell_type": "code",
   "execution_count": 51,
   "id": "352a20b7",
   "metadata": {},
   "outputs": [
    {
     "data": {
      "text/plain": [
       "'2,671,707.250'"
      ]
     },
     "execution_count": 51,
     "metadata": {},
     "output_type": "execute_result"
    }
   ],
   "source": [
    "f\"{month_groupped.median():,.3f}\""
   ]
  },
  {
   "cell_type": "code",
   "execution_count": 52,
   "id": "e8b1aac7",
   "metadata": {},
   "outputs": [
    {
     "data": {
      "text/plain": [
       "Month\n",
       "3    2,755,969.500\n",
       "4    3,336,376.500\n",
       "5    3,101,881.000\n",
       "10   3,679,254.250\n",
       "11   3,149,785.000\n",
       "12   4,557,905.500\n",
       "Name: Price_Total, dtype: float32"
      ]
     },
     "execution_count": 52,
     "metadata": {},
     "output_type": "execute_result"
    }
   ],
   "source": [
    "filt = month_groupped > month_groupped.median()\n",
    "month_groupped[filt]"
   ]
  },
  {
   "cell_type": "markdown",
   "id": "1ccf95f1",
   "metadata": {},
   "source": [
    "### ► The Graph Tells a Lot 📈📈"
   ]
  },
  {
   "cell_type": "code",
   "execution_count": 53,
   "id": "c15c5fec",
   "metadata": {},
   "outputs": [
    {
     "data": {
      "image/png": "[encoded data removed]",
      "text/plain": [
       "<Figure size 1000x400 with 1 Axes>"
      ]
     },
     "metadata": {},
     "output_type": "display_data"
    }
   ],
   "source": [
    "# Line Plot\n",
    "plt.figure(figsize=(10, 4))\n",
    "\n",
    "plt.plot(months, sales, color= \"#141E46\", marker= \".\")\n",
    "\n",
    "# Median Line\n",
    "plt.axhline(month_groupped.median(), \n",
    "            color=\"#070A52\", linestyle=\"--\",\n",
    "            alpha=0.5, label=\"Median\")\n",
    "\n",
    "# Above Median Line acoording to condition\n",
    "plt.fill_between(months, sales, month_groupped.median(),\n",
    "                     color=\"#3C486B\", alpha=0.2,\n",
    "                    where = (sales >= month_groupped.median()), \n",
    "                     interpolate=True, \n",
    "                    label = \"Above Median\")\n",
    "\n",
    "# Below Median Line acoording to condition\n",
    "plt.fill_between(months, sales, month_groupped.median(),\n",
    "                 color=\"darkred\", alpha=0.2,\n",
    "                where = (sales < month_groupped.median()), \n",
    "                 interpolate=True, label = \"Below Median\")\n",
    "\n",
    "plt.xticks(months)\n",
    "plt.xlabel(\"Month\")\n",
    "plt.ylabel(\"Total Sales (Million)\")\n",
    "plt.legend()\n",
    "plt.title(\"Sales Via Month\", fontdict={\"fontfamily\": \"arial\", \n",
    "                                       \"fontsize\": \"15\", \n",
    "                                       \"fontweight\":\"bold\", \n",
    "                                       \"color\": \"#234\"})\n",
    "plt.show()"
   ]
  },
  {
   "cell_type": "markdown",
   "id": "e463c5dc",
   "metadata": {},
   "source": [
    "## ♠ *Which Top 5 States Have The Highest Total Sales?*"
   ]
  },
  {
   "cell_type": "code",
   "execution_count": 54,
   "id": "85b895df",
   "metadata": {},
   "outputs": [
    {
     "data": {
      "text/plain": [
       "State\n",
       "CA   13,478,161.000\n",
       "NY    4,581,659.000\n",
       "TX    4,504,539.000\n",
       "MA    3,604,080.750\n",
       "GA    2,741,642.000\n",
       "Name: Price_Total, dtype: float32"
      ]
     },
     "execution_count": 54,
     "metadata": {},
     "output_type": "execute_result"
    }
   ],
   "source": [
    "top_5_states = df.groupby(\"State\")[\"Price_Total\"].sum().nlargest(5)\n",
    "top_5_states"
   ]
  },
  {
   "cell_type": "code",
   "execution_count": 55,
   "id": "070ebb1a",
   "metadata": {},
   "outputs": [
    {
     "data": {
      "image/png": "[encoded data removed]",
      "text/plain": [
       "<Figure size 640x480 with 1 Axes>"
      ]
     },
     "metadata": {},
     "output_type": "display_data"
    }
   ],
   "source": [
    "vals = top_5_states.to_list()\n",
    "\n",
    "# Get The Full Name Instead of Abbreevaition\n",
    "labels = [state_full_name(x) for x in top_5_states.index]\n",
    "\n",
    "colors = [\"#141E46\", \"#FF6969\", \"#35A29F\", \"#4E6E81\", \"#539165\"]\n",
    "\n",
    "_, _, fig = plt.pie(vals, labels = labels, shadow=True,\n",
    "                         autopct=\"%0.0f%%\", colors = colors,\n",
    "                        startangle=-50, explode=[0.18, 0, 0, 0.1, 0.15])\n",
    "\n",
    "#  Just Some Formatting of Text to the Pie Chart\n",
    "for autotext in fig:\n",
    "    autotext.set_fontfamily(\"consolas\")\n",
    "    autotext.set_fontsize(\"13\")\n",
    "    autotext.set_color(\"white\")\n",
    "    autotext.set_fontweight(\"bold\")\n",
    "\n",
    "plt.title(\"Top 5 States & Sales%\")\n",
    "plt.show()"
   ]
  },
  {
   "cell_type": "markdown",
   "id": "1b5ed5fa",
   "metadata": {},
   "source": [
    "## For Each State Get The Total Sales Per Each Quarter!!"
   ]
  },
  {
   "cell_type": "code",
   "execution_count": 56,
   "id": "2ad5c819",
   "metadata": {},
   "outputs": [],
   "source": [
    "state_quarter = df.pivot_table(index= df[\"State\"], \n",
    "                               columns = df[\"Order_Date\"].dt.quarter, \n",
    "                               values=\"Price_Total\", aggfunc=\"sum\")\n",
    "# Change The Columns Name\n",
    "state_quarter.columns = [\"Q1\", \"Q2\", \"Q3\", \"Q4\"]"
   ]
  },
  {
   "cell_type": "code",
   "execution_count": 57,
   "id": "b8f41950",
   "metadata": {},
   "outputs": [
    {
     "data": {
      "text/html": [
       "<div>\n",
       "<style scoped>\n",
       "    .dataframe tbody tr th:only-of-type {\n",
       "        vertical-align: middle;\n",
       "    }\n",
       "\n",
       "    .dataframe tbody tr th {\n",
       "        vertical-align: top;\n",
       "    }\n",
       "\n",
       "    .dataframe thead th {\n",
       "        text-align: right;\n",
       "    }\n",
       "</style>\n",
       "<table border=\"1\" class=\"dataframe\">\n",
       "  <thead>\n",
       "    <tr style=\"text-align: right;\">\n",
       "      <th></th>\n",
       "      <th>Q1</th>\n",
       "      <th>Q2</th>\n",
       "      <th>Q3</th>\n",
       "      <th>Q4</th>\n",
       "    </tr>\n",
       "    <tr>\n",
       "      <th>State</th>\n",
       "      <th></th>\n",
       "      <th></th>\n",
       "      <th></th>\n",
       "      <th></th>\n",
       "    </tr>\n",
       "  </thead>\n",
       "  <tbody>\n",
       "    <tr>\n",
       "      <th>CA</th>\n",
       "      <td>2,691,476.250</td>\n",
       "      <td>3,642,268.000</td>\n",
       "      <td>2,673,304.750</td>\n",
       "      <td>4,471,111.500</td>\n",
       "    </tr>\n",
       "    <tr>\n",
       "      <th>GA</th>\n",
       "      <td>543,513.375</td>\n",
       "      <td>727,645.750</td>\n",
       "      <td>540,508.750</td>\n",
       "      <td>929,974.188</td>\n",
       "    </tr>\n",
       "    <tr>\n",
       "      <th>MA</th>\n",
       "      <td>709,542.062</td>\n",
       "      <td>924,679.125</td>\n",
       "      <td>759,881.500</td>\n",
       "      <td>1,209,978.125</td>\n",
       "    </tr>\n",
       "    <tr>\n",
       "      <th>ME</th>\n",
       "      <td>81,649.828</td>\n",
       "      <td>129,253.883</td>\n",
       "      <td>96,087.547</td>\n",
       "      <td>137,119.266</td>\n",
       "    </tr>\n",
       "    <tr>\n",
       "      <th>NY</th>\n",
       "      <td>913,068.500</td>\n",
       "      <td>1,189,394.750</td>\n",
       "      <td>940,820.312</td>\n",
       "      <td>1,538,375.250</td>\n",
       "    </tr>\n",
       "    <tr>\n",
       "      <th>OR</th>\n",
       "      <td>360,615.969</td>\n",
       "      <td>500,632.250</td>\n",
       "      <td>353,857.125</td>\n",
       "      <td>617,433.312</td>\n",
       "    </tr>\n",
       "    <tr>\n",
       "      <th>TX</th>\n",
       "      <td>885,030.938</td>\n",
       "      <td>1,157,525.375</td>\n",
       "      <td>920,826.875</td>\n",
       "      <td>1,541,156.000</td>\n",
       "    </tr>\n",
       "    <tr>\n",
       "      <th>WA</th>\n",
       "      <td>515,711.094</td>\n",
       "      <td>691,323.188</td>\n",
       "      <td>544,217.500</td>\n",
       "      <td>941,796.812</td>\n",
       "    </tr>\n",
       "  </tbody>\n",
       "</table>\n",
       "</div>"
      ],
      "text/plain": [
       "                 Q1            Q2            Q3            Q4\n",
       "State                                                        \n",
       "CA    2,691,476.250 3,642,268.000 2,673,304.750 4,471,111.500\n",
       "GA      543,513.375   727,645.750   540,508.750   929,974.188\n",
       "MA      709,542.062   924,679.125   759,881.500 1,209,978.125\n",
       "ME       81,649.828   129,253.883    96,087.547   137,119.266\n",
       "NY      913,068.500 1,189,394.750   940,820.312 1,538,375.250\n",
       "OR      360,615.969   500,632.250   353,857.125   617,433.312\n",
       "TX      885,030.938 1,157,525.375   920,826.875 1,541,156.000\n",
       "WA      515,711.094   691,323.188   544,217.500   941,796.812"
      ]
     },
     "execution_count": 57,
     "metadata": {},
     "output_type": "execute_result"
    }
   ],
   "source": [
    "state_quarter"
   ]
  },
  {
   "cell_type": "markdown",
   "id": "59f224c2",
   "metadata": {},
   "source": [
    "## What Is The Top 10 Products ?!?"
   ]
  },
  {
   "cell_type": "code",
   "execution_count": 58,
   "id": "a5848157",
   "metadata": {},
   "outputs": [
    {
     "data": {
      "text/plain": [
       "Product\n",
       "AAA Batteries (4-pack)        30487\n",
       "AA Batteries (4-pack)         27148\n",
       "USB-C Charging Cable          23555\n",
       "Lightning Charging Cable      22841\n",
       "Wired Headphones              20201\n",
       "Apple Airpods Headphones      15383\n",
       "Bose SoundSport Headphones    13236\n",
       "27in FHD Monitor               7429\n",
       "iPhone                         6732\n",
       "27in 4K Gaming Monitor         6134\n",
       "34in Ultrawide Monitor         6076\n",
       "Google Phone                   5440\n",
       "Flatscreen TV                  4724\n",
       "Macbook Pro Laptop             4645\n",
       "20in Monitor                   4058\n",
       "ThinkPad Laptop                4054\n",
       "Vareebadd Phone                2023\n",
       "LG Washing Machine              649\n",
       "LG Dryer                        640\n",
       "Name: Quantity_Ordered, dtype: int64"
      ]
     },
     "execution_count": 58,
     "metadata": {},
     "output_type": "execute_result"
    }
   ],
   "source": [
    "top_10_products = df.groupby(\"Product\")[\"Quantity_Ordered\"].sum().sort_values(ascending=False)\n",
    "top_10_products"
   ]
  },
  {
   "cell_type": "code",
   "execution_count": 59,
   "id": "33bfa67d",
   "metadata": {},
   "outputs": [
    {
     "name": "stdout",
     "output_type": "stream",
     "text": [
      "Top 10 Products: \n"
     ]
    },
    {
     "data": {
      "text/plain": [
       "Product\n",
       "AAA Batteries (4-pack)      30487\n",
       "AA Batteries (4-pack)       27148\n",
       "USB-C Charging Cable        23555\n",
       "Lightning Charging Cable    22841\n",
       "Wired Headphones            20201\n",
       "Name: Quantity_Ordered, dtype: int64"
      ]
     },
     "execution_count": 59,
     "metadata": {},
     "output_type": "execute_result"
    }
   ],
   "source": [
    "print(\"Top 10 Products: \")\n",
    "top_10_products.head()"
   ]
  },
  {
   "cell_type": "code",
   "execution_count": 60,
   "id": "9655eab9",
   "metadata": {},
   "outputs": [
    {
     "data": {
      "image/png": "[encoded data removed]",
      "text/plain": [
       "<Figure size 600x800 with 1 Axes>"
      ]
     },
     "metadata": {},
     "output_type": "display_data"
    }
   ],
   "source": [
    "product = top_10_products.index[::-1]\n",
    "quantity = top_10_products.to_list()[::-1]\n",
    "\n",
    "plt.figure(figsize=(6, 8))\n",
    "\n",
    "fig = plt.barh(product, quantity, color = \"#123\")\n",
    "plt.title(\"Order Quantity Per Products\")\n",
    "plt.xlabel('Quantity')\n",
    "plt.ylabel(\"Product\")\n",
    "plt.show()"
   ]
  }
 ],
 "metadata": {
  "kernelspec": {
   "display_name": "Python 3 (ipykernel)",
   "language": "python",
   "name": "python3"
  },
  "language_info": {
   "codemirror_mode": {
    "name": "ipython",
    "version": 3
   },
   "file_extension": ".py",
   "mimetype": "text/x-python",
   "name": "python",
   "nbconvert_exporter": "python",
   "pygments_lexer": "ipython3",
   "version": "3.10.9"
  }
 },
 "nbformat": 4,
 "nbformat_minor": 5
}
